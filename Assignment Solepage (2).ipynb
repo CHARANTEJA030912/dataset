{
 "cells": [
  {
   "cell_type": "code",
   "execution_count": 1,
   "id": "2134c3de",
   "metadata": {},
   "outputs": [],
   "source": [
    "#cell 1\n",
    "# Importing Required Libraries\n",
    "import os\n",
    "import cv2\n",
    "import numpy as np\n",
    "import pandas as pd\n",
    "import torch\n",
    "from torch.utils.data import Dataset, DataLoader\n",
    "import torchvision.transforms as transforms\n",
    "from torchvision.models.detection import fasterrcnn_resnet50_fpn\n",
    "from torch import nn\n",
    "import pytesseract\n",
    "from torchvision import models\n",
    "import matplotlib.pyplot as plt"
   ]
  },
  {
   "cell_type": "code",
   "execution_count": 2,
   "id": "067241a1",
   "metadata": {},
   "outputs": [
    {
     "name": "stdout",
     "output_type": "stream",
     "text": [
      "Sorted file saved to: C:\\Users\\chara\\Downloads\\Assignment\\Licplatesdetection_train1_sorted_annotations.csv\n"
     ]
    }
   ],
   "source": [
    "#cell 2\n",
    "#train1_annotations_preprocess\n",
    "\n",
    "import pandas as pd\n",
    "\n",
    "# Load the Excel/CSV file\n",
    "file_path = r\"C:\\Users\\chara\\Downloads\\Assignment\\Licplatesdetection_train1_annotations.csv\"\n",
    "data = pd.read_csv(file_path)\n",
    "\n",
    "# Extract numerical parts from 'img_id' for sorting\n",
    "data['numeric_id'] = data['img_id'].str.extract('(\\d+)')[0].astype(int)\n",
    "\n",
    "# Sort the DataFrame by the numeric values\n",
    "data_sorted = data.sort_values(by='numeric_id').drop(columns=['numeric_id'])\n",
    "\n",
    "# Save the sorted DataFrame to a new file\n",
    "sorted_file_path = r\"C:\\Users\\chara\\Downloads\\Assignment\\Licplatesdetection_train1_sorted_annotations.csv\"\n",
    "data_sorted.to_csv(sorted_file_path, index=False)\n",
    "\n",
    "print(f\"Sorted file saved to: {sorted_file_path}\")"
   ]
  },
  {
   "cell_type": "code",
   "execution_count": 3,
   "id": "153b7a06",
   "metadata": {},
   "outputs": [
    {
     "name": "stdout",
     "output_type": "stream",
     "text": [
      "Missing numbers: []\n"
     ]
    }
   ],
   "source": [
    "#cell3\n",
    "#train1_annotation_preprocess\n",
    "\n",
    "import pandas as pd\n",
    "\n",
    "# Load the Excel/CSV file\n",
    "file_path = r\"C:\\Users\\chara\\Downloads\\Assignment\\Licplatesdetection_train1_sorted_annotations.csv\"\n",
    "data = pd.read_csv(file_path)\n",
    "\n",
    "# Extract numeric parts from 'img_id'\n",
    "data['numeric_id'] = data['img_id'].str.extract('(\\d+)')[0].astype(int)\n",
    "\n",
    "# Find the range of numbers\n",
    "min_id = data['numeric_id'].min()\n",
    "max_id = data['numeric_id'].max()\n",
    "\n",
    "# Find missing numbers\n",
    "full_range = set(range(min_id, max_id + 1))\n",
    "present_numbers = set(data['numeric_id'])\n",
    "missing_numbers = sorted(full_range - present_numbers)\n",
    "\n",
    "print(f\"Missing numbers: {missing_numbers}\")"
   ]
  },
  {
   "cell_type": "code",
   "execution_count": 4,
   "id": "f2adecac",
   "metadata": {},
   "outputs": [
    {
     "name": "stdout",
     "output_type": "stream",
     "text": [
      "Sorted file saved to: C:\\Users\\chara\\Downloads\\Assignment\\Licplatesdetection_train2_sorted_annotations.csv\n"
     ]
    }
   ],
   "source": [
    "#cell4\n",
    "#train2_annotation_preprocess\n",
    "\n",
    "import pandas as pd\n",
    "\n",
    "# Load the Excel/CSV file\n",
    "file_path =  r\"C:\\Users\\chara\\Downloads\\Assignment\\Licplatesrecognition_train2_annotations.csv\"\n",
    "data = pd.read_csv(file_path)\n",
    "\n",
    "# Extract numerical parts from 'img_id' for sorting\n",
    "data['numeric_id'] = data['img_id'].str.extract('(\\d+)')[0].astype(int)\n",
    "\n",
    "# Sort the DataFrame by the numeric values\n",
    "data_sorted = data.sort_values(by='numeric_id').drop(columns=['numeric_id'])\n",
    "\n",
    "# Save the sorted DataFrame to a new file\n",
    "sorted_file_path = r\"C:\\Users\\chara\\Downloads\\Assignment\\Licplatesdetection_train2_sorted_annotations.csv\"\n",
    "data_sorted.to_csv(sorted_file_path, index=False)\n",
    "\n",
    "print(f\"Sorted file saved to: {sorted_file_path}\")"
   ]
  },
  {
   "cell_type": "code",
   "execution_count": 5,
   "id": "22a75b10",
   "metadata": {},
   "outputs": [
    {
     "name": "stdout",
     "output_type": "stream",
     "text": [
      "Missing numbers: [15, 269, 383, 420, 439, 467, 538, 556, 568, 734, 909]\n"
     ]
    }
   ],
   "source": [
    "#cell5\n",
    "#train2_annotation_preprocess\n",
    "\n",
    "import pandas as pd\n",
    "\n",
    "# Load the Excel/CSV file\n",
    "file_path = r\"C:\\Users\\chara\\Downloads\\Assignment\\Licplatesdetection_train2_sorted_annotations.csv\"\n",
    "data = pd.read_csv(file_path)\n",
    "\n",
    "# Extract numeric parts from 'img_id'\n",
    "data['numeric_id'] = data['img_id'].str.extract('(\\d+)')[0].astype(int)\n",
    "\n",
    "# Find the range of numbers\n",
    "min_id = data['numeric_id'].min()\n",
    "max_id = data['numeric_id'].max()\n",
    "\n",
    "# Find missing numbers\n",
    "full_range = set(range(min_id, max_id + 1))\n",
    "present_numbers = set(data['numeric_id'])\n",
    "missing_numbers = sorted(full_range - present_numbers)\n",
    "\n",
    "print(f\"Missing numbers: {missing_numbers}\")"
   ]
  },
  {
   "cell_type": "code",
   "execution_count": 6,
   "id": "244ed0e2",
   "metadata": {},
   "outputs": [
    {
     "name": "stdout",
     "output_type": "stream",
     "text": [
      "Updated file saved as: C:\\Users\\chara\\Downloads\\Assignment\\Licplatesdetection_train2_sorted_annotations_updated.csv\n"
     ]
    }
   ],
   "source": [
    "#cell 6\n",
    "import pandas as pd\n",
    "\n",
    "# Load the CSV file\n",
    "file_path = r\"C:\\Users\\chara\\Downloads\\Assignment\\Licplatesdetection_train2_sorted_annotations.csv\"  # Replace with your actual file path\n",
    "df = pd.read_csv(file_path)\n",
    "\n",
    "# Rename the img_id column to sequential numbers from 1 to maximum\n",
    "df['img_id'] = [f\"{i+1}.jpg\" for i in range(len(df))]\n",
    "\n",
    "# Save the updated dataframe to a new CSV file\n",
    "updated_file_path = r\"C:\\Users\\chara\\Downloads\\Assignment\\Licplatesdetection_train2_sorted_annotations_updated.csv\"  # Replace with desired file path\n",
    "df.to_csv(updated_file_path, index=False)\n",
    "\n",
    "print(f\"Updated file saved as: {updated_file_path}\")\n"
   ]
  },
  {
   "cell_type": "code",
   "execution_count": 7,
   "id": "f25a2139",
   "metadata": {},
   "outputs": [
    {
     "name": "stdout",
     "output_type": "stream",
     "text": [
      "Images sorted from min to max and copied to: C:\\Users\\chara\\Downloads\\Assignment\\Licplatesdetection_train1_sorted\n"
     ]
    }
   ],
   "source": [
    "#cell 7\n",
    "#train_preprocessing1\n",
    "\n",
    "\n",
    "import os\n",
    "import shutil\n",
    "\n",
    "# Path to the original folder containing images\n",
    "image_folder = r\"C:\\Users\\chara\\Downloads\\Assignment\\Licplatesdetection_train1\" \n",
    "\n",
    "# Path to the new folder for sorted images\n",
    "sorted_folder = r\"C:\\Users\\chara\\Downloads\\Assignment\\Licplatesdetection_train1_sorted\"\n",
    "\n",
    "# Step 1: Create the sorted folder if it doesn't exist\n",
    "os.makedirs(sorted_folder, exist_ok=True)\n",
    "\n",
    "# Step 2: List all files in the directory\n",
    "image_files = os.listdir(image_folder)\n",
    "\n",
    "# Step 3: Filter only valid image files (optional, based on your folder's contents)\n",
    "image_files = [f for f in image_files if f.endswith(('.jpg', '.png', '.jpeg'))]\n",
    "\n",
    "# Step 4: Extract numeric parts of file names and sort them\n",
    "def extract_numeric(file_name):\n",
    "    \"\"\"Extracts numeric value from file name.\"\"\"\n",
    "    base_name = os.path.splitext(file_name)[0]\n",
    "    try:\n",
    "        return int(base_name)\n",
    "    except ValueError:\n",
    "        return float('inf')  # Push non-numeric names to the end if any\n",
    "\n",
    "sorted_files = sorted(image_files, key=extract_numeric)\n",
    "\n",
    "# Step 5: Copy files to the new folder in ascending order\n",
    "for idx, file_name in enumerate(sorted_files, start=1):\n",
    "    old_path = os.path.join(image_folder, file_name)\n",
    "    new_name = f\"{idx:03d}{os.path.splitext(file_name)[1]}\"  # Rename to 001.jpg, 002.jpg, etc.\n",
    "    new_path = os.path.join(sorted_folder, new_name)\n",
    "    shutil.copy2(old_path, new_path)\n",
    "\n",
    "print(f\"Images sorted from min to max and copied to: {sorted_folder}\")"
   ]
  },
  {
   "cell_type": "code",
   "execution_count": 8,
   "id": "20a12433",
   "metadata": {},
   "outputs": [
    {
     "name": "stdout",
     "output_type": "stream",
     "text": [
      "Total images found: 900\n",
      "Range of numbers: 1 to 900\n",
      "Missing numbers: None\n"
     ]
    }
   ],
   "source": [
    "#cell 8\n",
    "#train_preprocessing1\n",
    "\n",
    "import os\n",
    "\n",
    "# Path to the folder containing images\n",
    "image_folder = r\"C:\\Users\\chara\\Downloads\\Assignment\\Licplatesdetection_train1_sorted\"\n",
    "\n",
    "# Step 1: List all files in the directory\n",
    "image_files = os.listdir(image_folder)\n",
    "\n",
    "# Step 2: Filter only valid image files\n",
    "image_files = [f for f in image_files if f.endswith(('.jpg', '.png', '.jpeg'))]\n",
    "\n",
    "# Step 3: Extract numeric parts of file names\n",
    "def extract_numeric(file_name):\n",
    "    \"\"\"Extracts numeric value from file name.\"\"\"\n",
    "    base_name = os.path.splitext(file_name)[0]\n",
    "    try:\n",
    "        return int(base_name)\n",
    "    except ValueError:\n",
    "        return None  # Ignore files without numeric names\n",
    "\n",
    "image_numbers = [extract_numeric(f) for f in image_files]\n",
    "image_numbers = [num for num in image_numbers if num is not None]  # Remove None values\n",
    "\n",
    "# Step 4: Find missing numbers in the sequence\n",
    "if image_numbers:\n",
    "    min_number = min(image_numbers)\n",
    "    max_number = max(image_numbers)\n",
    "    full_range = set(range(min_number, max_number + 1))\n",
    "    existing_numbers = set(image_numbers)\n",
    "    missing_numbers = sorted(full_range - existing_numbers)\n",
    "else:\n",
    "    missing_numbers = []\n",
    "\n",
    "# Output results\n",
    "print(f\"Total images found: {len(image_numbers)}\")\n",
    "print(f\"Range of numbers: {min(image_numbers)} to {max(image_numbers)}\")\n",
    "print(f\"Missing numbers: {missing_numbers if missing_numbers else 'None'}\")"
   ]
  },
  {
   "cell_type": "code",
   "execution_count": 9,
   "id": "0b19263b",
   "metadata": {},
   "outputs": [
    {
     "name": "stdout",
     "output_type": "stream",
     "text": [
      "Images sorted from min to max and copied to: C:\\Users\\chara\\Downloads\\Assignment\\Licplatesdetection_train2_sorted\n"
     ]
    }
   ],
   "source": [
    "#cell 9\n",
    "#train_preprocessing2\n",
    "\n",
    "import os\n",
    "import shutil\n",
    "\n",
    "# Path to the original folder containing images\n",
    "image_folder = r\"C:\\Users\\chara\\Downloads\\Assignment\\Licplatesrecognition_train2\"\n",
    "\n",
    "# Path to the new folder for sorted images\n",
    "sorted_folder = r\"C:\\Users\\chara\\Downloads\\Assignment\\Licplatesdetection_train2_sorted\"\n",
    "\n",
    "# Step 1: Create the sorted folder if it doesn't exist\n",
    "os.makedirs(sorted_folder, exist_ok=True)\n",
    "\n",
    "# Step 2: List all files in the directory\n",
    "image_files = os.listdir(image_folder)\n",
    "\n",
    "# Step 3: Filter only valid image files (optional, based on your folder's contents)\n",
    "image_files = [f for f in image_files if f.endswith(('.jpg', '.png', '.jpeg'))]\n",
    "\n",
    "# Step 4: Extract numeric parts of file names and sort them\n",
    "def extract_numeric(file_name):\n",
    "    \"\"\"Extracts numeric value from file name.\"\"\"\n",
    "    base_name = os.path.splitext(file_name)[0]\n",
    "    try:\n",
    "        return int(base_name)\n",
    "    except ValueError:\n",
    "        return float('inf')  # Push non-numeric names to the end if any\n",
    "\n",
    "sorted_files = sorted(image_files, key=extract_numeric)\n",
    "\n",
    "# Step 5: Copy files to the new folder in ascending order\n",
    "for idx, file_name in enumerate(sorted_files, start=1):\n",
    "    old_path = os.path.join(image_folder, file_name)\n",
    "    new_name = f\"{idx:03d}{os.path.splitext(file_name)[1]}\"  # Rename to 001.jpg, 002.jpg, etc.\n",
    "    new_path = os.path.join(sorted_folder, new_name)\n",
    "    shutil.copy2(old_path, new_path)\n",
    "\n",
    "print(f\"Images sorted from min to max and copied to: {sorted_folder}\")"
   ]
  },
  {
   "cell_type": "code",
   "execution_count": 10,
   "id": "a4f4b3ea",
   "metadata": {},
   "outputs": [
    {
     "name": "stdout",
     "output_type": "stream",
     "text": [
      "Total images found: 900\n",
      "Range of numbers: 1 to 900\n",
      "Missing numbers: None\n"
     ]
    }
   ],
   "source": [
    "#cell 10\n",
    "#train_preprocessing2\n",
    "\n",
    "import os\n",
    "\n",
    "# Path to the folder containing images\n",
    "image_folder = r\"C:\\Users\\chara\\Downloads\\Assignment\\Licplatesdetection_train2_sorted\"\n",
    "\n",
    "# Step 1: List all files in the directory\n",
    "image_files = os.listdir(image_folder)\n",
    "\n",
    "# Step 2: Filter only valid image files\n",
    "image_files = [f for f in image_files if f.endswith(('.jpg', '.png', '.jpeg'))]\n",
    "\n",
    "# Step 3: Extract numeric parts of file names\n",
    "def extract_numeric(file_name):\n",
    "    \"\"\"Extracts numeric value from file name.\"\"\"\n",
    "    base_name = os.path.splitext(file_name)[0]\n",
    "    try:\n",
    "        return int(base_name)\n",
    "    except ValueError:\n",
    "        return None  # Ignore files without numeric names\n",
    "\n",
    "image_numbers = [extract_numeric(f) for f in image_files]\n",
    "image_numbers = [num for num in image_numbers if num is not None]  # Remove None values\n",
    "\n",
    "# Step 4: Find missing numbers in the sequence\n",
    "if image_numbers:\n",
    "    min_number = min(image_numbers)\n",
    "    max_number = max(image_numbers)\n",
    "    full_range = set(range(min_number, max_number + 1))\n",
    "    existing_numbers = set(image_numbers)\n",
    "    missing_numbers = sorted(full_range - existing_numbers)\n",
    "else:\n",
    "    missing_numbers = []\n",
    "\n",
    "# Output results\n",
    "print(f\"Total images found: {len(image_numbers)}\")\n",
    "print(f\"Range of numbers: {min(image_numbers)} to {max(image_numbers)}\")\n",
    "print(f\"Missing numbers: {missing_numbers if missing_numbers else 'None'}\")"
   ]
  },
  {
   "cell_type": "code",
   "execution_count": 11,
   "id": "edceed6e",
   "metadata": {},
   "outputs": [
    {
     "name": "stdout",
     "output_type": "stream",
     "text": [
      "Images sorted from min to max and copied to: C:\\Users\\chara\\Downloads\\Assignment\\test_sorted\n"
     ]
    }
   ],
   "source": [
    "#cell11\n",
    "#test_preprocessing\n",
    "\n",
    "#train_preprocessing2\n",
    "\n",
    "import os\n",
    "import shutil\n",
    "\n",
    "# Path to the original folder containing images\n",
    "image_folder = r\"C:\\Users\\chara\\Downloads\\Assignment\\test\"\n",
    "\n",
    "# Path to the new folder for sorted images\n",
    "sorted_folder = r\"C:\\Users\\chara\\Downloads\\Assignment\\test_sorted\"\n",
    "\n",
    "# Step 1: Create the sorted folder if it doesn't exist\n",
    "os.makedirs(sorted_folder, exist_ok=True)\n",
    "\n",
    "# Step 2: List all files in the directory\n",
    "image_files = os.listdir(image_folder)\n",
    "\n",
    "# Step 3: Filter only valid image files (optional, based on your folder's contents)\n",
    "image_files = [f for f in image_files if f.endswith(('.jpg', '.png', '.jpeg'))]\n",
    "\n",
    "# Step 4: Extract numeric parts of file names and sort them\n",
    "def extract_numeric(file_name):\n",
    "    \"\"\"Extracts numeric value from file name.\"\"\"\n",
    "    base_name = os.path.splitext(file_name)[0]\n",
    "    try:\n",
    "        return int(base_name)\n",
    "    except ValueError:\n",
    "        return float('inf')  # Push non-numeric names to the end if any\n",
    "\n",
    "sorted_files = sorted(image_files, key=extract_numeric)\n",
    "\n",
    "# Step 5: Copy files to the new folder in ascending order\n",
    "for idx, file_name in enumerate(sorted_files, start=1):\n",
    "    old_path = os.path.join(image_folder, file_name)\n",
    "    new_name = f\"{idx:03d}{os.path.splitext(file_name)[1]}\"  # Rename to 001.jpg, 002.jpg, etc.\n",
    "    new_path = os.path.join(sorted_folder, new_name)\n",
    "    shutil.copy2(old_path, new_path)\n",
    "\n",
    "print(f\"Images sorted from min to max and copied to: {sorted_folder}\")"
   ]
  },
  {
   "cell_type": "code",
   "execution_count": 12,
   "id": "857ca574",
   "metadata": {},
   "outputs": [
    {
     "name": "stdout",
     "output_type": "stream",
     "text": [
      "Total images found: 210\n",
      "Range of numbers: 1 to 210\n",
      "Missing numbers: None\n"
     ]
    }
   ],
   "source": [
    "#cell12\n",
    "#train_preprocessing2\n",
    "\n",
    "import os\n",
    "\n",
    "# Path to the folder containing images\n",
    "image_folder = r\"C:\\Users\\chara\\Downloads\\Assignment\\test_sorted\"\n",
    "\n",
    "# Step 1: List all files in the directory\n",
    "image_files = os.listdir(image_folder)\n",
    "\n",
    "# Step 2: Filter only valid image files\n",
    "image_files = [f for f in image_files if f.endswith(('.jpg', '.png', '.jpeg'))]\n",
    "\n",
    "# Step 3: Extract numeric parts of file names\n",
    "def extract_numeric(file_name):\n",
    "    \"\"\"Extracts numeric value from file name.\"\"\"\n",
    "    base_name = os.path.splitext(file_name)[0]\n",
    "    try:\n",
    "        return int(base_name)\n",
    "    except ValueError:\n",
    "        return None  # Ignore files without numeric names\n",
    "\n",
    "image_numbers = [extract_numeric(f) for f in image_files]\n",
    "image_numbers = [num for num in image_numbers if num is not None]  # Remove None values\n",
    "\n",
    "# Step 4: Find missing numbers in the sequence\n",
    "if image_numbers:\n",
    "    min_number = min(image_numbers)\n",
    "    max_number = max(image_numbers)\n",
    "    full_range = set(range(min_number, max_number + 1))\n",
    "    existing_numbers = set(image_numbers)\n",
    "    missing_numbers = sorted(full_range - existing_numbers)\n",
    "else:\n",
    "    missing_numbers = []\n",
    "\n",
    "# Output results\n",
    "print(f\"Total images found: {len(image_numbers)}\")\n",
    "print(f\"Range of numbers: {min(image_numbers)} to {max(image_numbers)}\")\n",
    "print(f\"Missing numbers: {missing_numbers if missing_numbers else 'None'}\")"
   ]
  },
  {
   "cell_type": "code",
   "execution_count": 13,
   "id": "797d157c",
   "metadata": {},
   "outputs": [],
   "source": [
    "#cell13\n",
    "# Define Dataset Paths\n",
    "TRAIN1_PATH = r\"C:\\Users\\chara\\Downloads\\Assignment\\Licplatesdetection_train1_sorted\"  # Vehicle images with bounding box annotations\n",
    "TRAIN1_ANNOTATIONS = r\"C:\\Users\\chara\\Downloads\\Assignment\\Licplatesdetection_train1_sorted_annotations.csv\"  # Annotations for Training Set 1\n",
    "\n",
    "TRAIN2_PATH = r\"C:\\Users\\chara\\Downloads\\Assignment\\Licplatesdetection_train2_sorted\"  # License plate images with text annotations\n",
    "TRAIN2_ANNOTATIONS = r\"C:\\Users\\chara\\Downloads\\Assignment\\Licplatesdetection_train2_sorted_annotations_updated.csv\"  # Text annotations for Training Set 2\n",
    "\n",
    "TEST_PATH = r\"C:\\Users\\chara\\Downloads\\Assignment\\test_sorted\" # Test set images"
   ]
  },
  {
   "cell_type": "code",
   "execution_count": 14,
   "id": "9c7a7ad1",
   "metadata": {},
   "outputs": [],
   "source": [
    "#cell14\n",
    "# Custom Dataset for Training Set 1\n",
    "class LicensePlateDataset(Dataset):\n",
    "    def __init__(self, image_dir, annotations_file, transform=None):\n",
    "        \"\"\"\n",
    "        image_dir: Directory containing the images.\n",
    "        annotations_file: CSV file with bounding box annotations.\n",
    "        transform: Data augmentation or transformations.\n",
    "        \"\"\"\n",
    "        self.image_dir = image_dir\n",
    "        self.annotations = pd.read_csv(annotations_file)\n",
    "        self.transform = transform\n",
    "\n",
    "    def __len__(self):\n",
    "        return len(self.annotations)\n",
    "\n",
    "    def __getitem__(self, idx):\n",
    "        # Load image and annotations\n",
    "        img_path = os.path.join(self.image_dir, self.annotations.iloc[idx, 0])\n",
    "        image = cv2.imread(img_path)\n",
    "        image = cv2.cvtColor(image, cv2.COLOR_BGR2RGB)\n",
    "        boxes = self.annotations.iloc[idx, 1:5].values.astype('float32').tolist()\n",
    "        labels = torch.ones((1,), dtype=torch.int64)  # Assuming single class (license plate)\n",
    "\n",
    "        # Apply transformations\n",
    "        if self.transform:\n",
    "            image = self.transform(image)\n",
    "\n",
    "        target = {\n",
    "            \"boxes\": torch.tensor([boxes]),\n",
    "            \"labels\": labels,\n",
    "        }\n",
    "        return image, target"
   ]
  },
  {
   "cell_type": "code",
   "execution_count": 15,
   "id": "27d0fcb6",
   "metadata": {},
   "outputs": [],
   "source": [
    "#cell15\n",
    "# Build the License Plate Detection Model\n",
    "def build_detection_model():\n",
    "    \"\"\"\n",
    "    Creates a Faster R-CNN model pre-trained on the COCO dataset.\n",
    "    \"\"\"\n",
    "    model = fasterrcnn_resnet50_fpn(weights=\"COCO_V1\")  # Updated to use the correct parameter\n",
    "    # Modify the classifier to detect only one class (license plate)\n",
    "    num_classes = 2  # Background + License Plate\n",
    "    in_features = model.roi_heads.box_predictor.cls_score.in_features\n",
    "    \n",
    "    # Update the box predictor to return only the class logits and box regression\n",
    "    model.roi_heads.box_predictor = models.detection.faster_rcnn.FastRCNNPredictor(in_features, num_classes)\n",
    "    \n",
    "    return model\n",
    "\n",
    "# Initialize the model\n",
    "detection_model = build_detection_model()\n",
    "detection_model = detection_model.to('cpu')"
   ]
  },
  {
   "cell_type": "code",
   "execution_count": 16,
   "id": "83540e03",
   "metadata": {},
   "outputs": [],
   "source": [
    "#cell16\n",
    "# Custom Dataset for Training Set 2 (License Plate OCR)\n",
    "class LicensePlateOCRDataset(Dataset):\n",
    "    def __init__(self, image_dir, annotations_file, transform=None):\n",
    "        \"\"\"\n",
    "        image_dir: Directory containing cropped license plate images.\n",
    "        annotations_file: CSV file with license plate text annotations.\n",
    "        transform: Data augmentation or transformations.\n",
    "        \"\"\"\n",
    "        self.image_dir = image_dir\n",
    "        self.annotations = pd.read_csv(annotations_file)\n",
    "        self.transform = transform\n",
    "\n",
    "    def __len__(self):\n",
    "        return len(self.annotations)\n",
    "\n",
    "    def __getitem__(self, idx):\n",
    "        # Load image and corresponding text\n",
    "        img_path = os.path.join(self.image_dir, self.annotations.iloc[idx, 0])\n",
    "        image = cv2.imread(img_path)\n",
    "        image = cv2.cvtColor(image, cv2.COLOR_BGR2RGB)\n",
    "        label = self.annotations.iloc[idx, 1]\n",
    "\n",
    "        # Apply transformations\n",
    "        if self.transform:\n",
    "            image = self.transform(image)\n",
    "\n",
    "        return image, label"
   ]
  },
  {
   "cell_type": "code",
   "execution_count": 17,
   "id": "757091f9",
   "metadata": {},
   "outputs": [
    {
     "name": "stderr",
     "output_type": "stream",
     "text": [
      "C:\\Users\\chara\\AppData\\Roaming\\Python\\Python311\\site-packages\\torchvision\\models\\_utils.py:208: UserWarning: The parameter 'pretrained' is deprecated since 0.13 and may be removed in the future, please use 'weights' instead.\n",
      "  warnings.warn(\n",
      "C:\\Users\\chara\\AppData\\Roaming\\Python\\Python311\\site-packages\\torchvision\\models\\_utils.py:223: UserWarning: Arguments other than a weight enum or `None` for 'weights' are deprecated since 0.13 and may be removed in the future. The current behavior is equivalent to passing `weights=ResNet18_Weights.IMAGENET1K_V1`. You can also use `weights=ResNet18_Weights.DEFAULT` to get the most up-to-date weights.\n",
      "  warnings.warn(msg)\n"
     ]
    }
   ],
   "source": [
    "#cell17\n",
    "# Build OCR Model using Pre-trained ResNet\n",
    "class LicensePlateOCR(nn.Module):\n",
    "    def __init__(self, num_classes=36):  # 26 letters + 10 digits\n",
    "        super(LicensePlateOCR, self).__init__()\n",
    "        self.backbone = models.resnet18(pretrained=True)\n",
    "        self.backbone.fc = nn.Linear(self.backbone.fc.in_features, num_classes)\n",
    "\n",
    "    def forward(self, x):\n",
    "        return self.backbone(x)\n",
    "\n",
    "# Initialize the OCR model\n",
    "ocr_model = LicensePlateOCR(num_classes=36)  # Adjust for alphanumeric output\n",
    "ocr_model = ocr_model.to('cpu')"
   ]
  },
  {
   "cell_type": "code",
   "execution_count": 18,
   "id": "f2e9a83b",
   "metadata": {},
   "outputs": [],
   "source": [
    "#cell18\n",
    "# Training Function for Detection Model\n",
    "def train_detection_model(model, dataloader, optimizer, num_epochs=10):\n",
    "    model.train()\n",
    "    for epoch in range(num_epochs):\n",
    "        epoch_loss = 0\n",
    "        for images, targets in dataloader:\n",
    "            images = list(img.to('cpu') for img in images)\n",
    "            targets = [{k: v.to('cpu') for k, v in t.items()} for t in targets]\n",
    "\n",
    "            loss_dict = model(images, targets)\n",
    "            losses = sum(loss for loss in loss_dict.values())\n",
    "\n",
    "            optimizer.zero_grad()\n",
    "            losses.backward()\n",
    "            optimizer.step()\n",
    "\n",
    "            epoch_loss += losses.item()\n",
    "        print(f\"Epoch {epoch + 1}/{num_epochs}, Loss: {epoch_loss:.4f}\")\n",
    "\n",
    "# Training Function for OCR Model\n",
    "def train_ocr_model(model, dataloader, criterion, optimizer, num_epochs=10):\n",
    "    model.train()\n",
    "    for epoch in range(num_epochs):\n",
    "        epoch_loss = 0\n",
    "        for images, labels in dataloader:\n",
    "            images = images.to('cpu')\n",
    "            labels = labels.to('cpu')\n",
    "\n",
    "            outputs = model(images)\n",
    "            loss = criterion(outputs, labels)\n",
    "\n",
    "            optimizer.zero_grad()\n",
    "            loss.backward()\n",
    "            optimizer.step()\n",
    "\n",
    "            epoch_loss += loss.item()\n",
    "        print(f\"Epoch {epoch + 1}/{num_epochs}, Loss: {epoch_loss:.4f}\")"
   ]
  },
  {
   "cell_type": "code",
   "execution_count": 19,
   "id": "ba6123df",
   "metadata": {},
   "outputs": [],
   "source": [
    "#cell19\n",
    "import pandas as pd\n",
    "\n",
    "# Inference Pipeline with Results Storage\n",
    "def detect_and_recognize(image_paths, detection_model, ocr_model, output_excel_path):\n",
    "    \"\"\"\n",
    "    Processes a list of image paths, detects license plates, recognizes characters, \n",
    "    and saves results in an Excel file.\n",
    "\n",
    "    image_paths: List of paths to test images.\n",
    "    detection_model: Pre-trained license plate detection model.\n",
    "    ocr_model: Pre-trained OCR model.\n",
    "    output_excel_path: Path to save the Excel file.\n",
    "    \"\"\"\n",
    "    results = []  # To store results in a list\n",
    "\n",
    "    for image_path in image_paths:\n",
    "        # Read the image\n",
    "        image = cv2.imread(image_path)\n",
    "        image_rgb = cv2.cvtColor(image, cv2.COLOR_BGR2RGB)\n",
    "        transform = transforms.ToTensor()\n",
    "        image_tensor = transform(image_rgb).unsqueeze(0).to('cpu')\n",
    "\n",
    "        # Step 1: Detect License Plate\n",
    "        detection_model.eval()\n",
    "        with torch.no_grad():\n",
    "            predictions = detection_model(image_tensor)\n",
    "\n",
    "        # Extract bounding box if available\n",
    "        if len(predictions[0]['boxes']) > 0:\n",
    "            box = predictions[0]['boxes'][0].cpu().numpy().astype(int)\n",
    "            cropped = image_rgb[box[1]:box[3], box[0]:box[2]]\n",
    "\n",
    "            # Step 2: OCR Recognition\n",
    "            ocr_model.eval()\n",
    "            transform = transforms.Compose([\n",
    "                transforms.ToPILImage(),\n",
    "                transforms.Resize((224, 224)),\n",
    "                transforms.ToTensor()\n",
    "            ])\n",
    "            cropped_tensor = transform(cropped).unsqueeze(0).to('cpu')\n",
    "\n",
    "            with torch.no_grad():\n",
    "                output = ocr_model(cropped_tensor)\n",
    "                predicted_text = \"\".join(chr(c + ord('A')) for c in output.argmax(dim=1).cpu().numpy())\n",
    "        else:\n",
    "            predicted_text = \"License plate not detected\"\n",
    "\n",
    "        # Append the result (image name and detected text)\n",
    "        results.append({\n",
    "            \"Image Name\": os.path.basename(image_path),\n",
    "            \"Detected Text\": predicted_text\n",
    "        })\n",
    "\n",
    "    # Convert results to a DataFrame and save as Excel\n",
    "    df_results = pd.DataFrame(results)\n",
    "    df_results.to_excel(output_excel_path, index=False)\n",
    "    print(f\"Results saved to {output_excel_path}\")"
   ]
  },
  {
   "cell_type": "code",
   "execution_count": 23,
   "id": "4630ae3d",
   "metadata": {
    "scrolled": true
   },
   "outputs": [
    {
     "name": "stdout",
     "output_type": "stream",
     "text": [
      "Results saved to license_plate_results.xlsx\n"
     ]
    }
   ],
   "source": [
    "#cell 20\n",
    "# List of test image paths\n",
    "test_image_paths = [os.path.join(TEST_PATH, img) for img in os.listdir(TEST_PATH) if img.endswith(('.png', '.jpg', '.jpeg'))]\n",
    "\n",
    "# Path to save the Excel file\n",
    "output_excel_path = \"license_plate_results.xlsx\"\n",
    "\n",
    "# Run the pipeline\n",
    "detect_and_recognize(test_image_paths, detection_model, ocr_model, output_excel_path)"
   ]
  },
  {
   "cell_type": "code",
   "execution_count": 24,
   "id": "6f9d953c",
   "metadata": {},
   "outputs": [
    {
     "name": "stdout",
     "output_type": "stream",
     "text": [
      "Error: C:\\Users\\chara\\Downloads\\Assignment\\Licplatesdetection_train1_sorted_annotations.csv does not contain the required columns\n",
      "Error: C:\\Users\\chara\\Downloads\\Assignment\\Licplatesdetection_train2_sorted_annotations_updated.csv does not contain the required columns\n"
     ]
    },
    {
     "data": {
      "text/plain": [
       "False"
      ]
     },
     "execution_count": 24,
     "metadata": {},
     "output_type": "execute_result"
    }
   ],
   "source": [
    "#cell 21\n",
    "# Verify the datasets\n",
    "verify_detection_dataset(TRAIN1_PATH, TRAIN1_ANNOTATIONS)\n",
    "verify_ocr_dataset(TRAIN2_PATH, TRAIN2_ANNOTATIONS)"
   ]
  },
  {
   "cell_type": "code",
   "execution_count": null,
   "id": "45cfe62d",
   "metadata": {},
   "outputs": [],
   "source": []
  }
 ],
 "metadata": {
  "kernelspec": {
   "display_name": "Python 3 (ipykernel)",
   "language": "python",
   "name": "python3"
  },
  "language_info": {
   "codemirror_mode": {
    "name": "ipython",
    "version": 3
   },
   "file_extension": ".py",
   "mimetype": "text/x-python",
   "name": "python",
   "nbconvert_exporter": "python",
   "pygments_lexer": "ipython3",
   "version": "3.11.3"
  }
 },
 "nbformat": 4,
 "nbformat_minor": 5
}
